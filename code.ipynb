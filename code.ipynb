{
 "cells": [
  {
   "cell_type": "code",
   "execution_count": 1,
   "metadata": {},
   "outputs": [],
   "source": [
    "# Code by Finney, 2023\n",
    "# Importing modules.\n",
    "from pandas.io.excel import ExcelWriter\n",
    "import pandas as pd\n",
    "from openpyxl import Workbook\n",
    "from openpyxl import load_workbook\n",
    "import os\n",
    "\n",
    "# Setting up logging.\n",
    "import logging\n",
    "files = os.listdir(\"inputdata\")\n",
    "logging.basicConfig(filename=\"info.log\",\n",
    "                    format='%(asctime)s %(message)s',\n",
    "                    filemode='w')\n",
    "# Creating an object\n",
    "logger = logging.getLogger()\n",
    "# Setting the threshold of logger to DEBUG\n",
    "logger.setLevel(logging.DEBUG)\n",
    "logging.info(\"Contents of 'inputdata' saved as list.\")"
   ]
  },
  {
   "cell_type": "code",
   "execution_count": 2,
   "metadata": {},
   "outputs": [],
   "source": [
    "# Error handling.\n",
    "if files == []:\n",
    "    logger.error(\"[ERROR] No files present in 'inputdata'.\")\n",
    "    exit()\n",
    "for file_name in files:\n",
    "    name_length = len(file_name)\n",
    "    if file_name[(name_length-4):name_length] != \".csv\":\n",
    "        logger.error(\"[ERROR] '%s' is an incompatible file.\", file_name)\n",
    "        exit()"
   ]
  },
  {
   "cell_type": "code",
   "execution_count": 3,
   "metadata": {},
   "outputs": [],
   "source": [
    "# Set up empty list of the file locations which must be converted.\n",
    "csv_name = []\n",
    "csv_data = []\n",
    "\n",
    "# Creating lists of the names of .csv files, and the data associated with said .csv.\n",
    "for file_name in files:\n",
    "    file_location = \"inputdata/\" + file_name\n",
    "    nickname = file_name[:-4] # Removes \".csv\"\n",
    "    csv_name.extend([nickname])\n",
    "    logging.info(\"'%s' added to list of sheet names to be included.\", nickname)\n",
    "    df = pd.read_csv(file_location)\n",
    "    csv_data.extend([df])\n",
    "    logging.info(\"Dataframe added to list of dataframes to be included.\")"
   ]
  },
  {
   "cell_type": "code",
   "execution_count": 4,
   "metadata": {},
   "outputs": [],
   "source": [
    "# Gives output file a unique name, to prevent overwriting.\n",
    "output_files = os.listdir(\"outputdata\")\n",
    "unique_name = False\n",
    "xlsx_name = \"file.xlsx\"\n",
    "while unique_name == False:\n",
    "    unique_name = True\n",
    "    for x in range(len(output_files)):\n",
    "        if xlsx_name == str(output_files[x]):\n",
    "            unique_name = False # Potential to overwrite file found.\n",
    "            y = x\n",
    "    if unique_name == False:\n",
    "        xlsx_name = \"file(\" + str(y+1) + \")\" + \".xlsx\"\n",
    "logging.info(\"Output file name set to '%s'.\", xlsx_name)\n",
    "output_path = \"outputdata/\" + xlsx_name "
   ]
  },
  {
   "cell_type": "code",
   "execution_count": 5,
   "metadata": {},
   "outputs": [],
   "source": [
    "# Writing contents of .csv(s) to .xlsx.\n",
    "logging.info(\"Writing to outputdata.\")\n",
    "with pd.ExcelWriter(output_path) as writer:\n",
    "    for x in range(len(csv_data)): \n",
    "      csv_data[x].to_excel(writer, sheet_name=csv_name[x], index=False)\n",
    "      logging.info(\"'%s' sheet added.\", csv_name[x])\n",
    "      logging.info(\"Data written to '%s'.\", csv_name[x])\n",
    "logging.info(\"Writing complete.\")"
   ]
  }
 ],
 "metadata": {
  "kernelspec": {
   "display_name": "venv",
   "language": "python",
   "name": "venv"
  },
  "language_info": {
   "codemirror_mode": {
    "name": "ipython",
    "version": 3
   },
   "file_extension": ".py",
   "mimetype": "text/x-python",
   "name": "python",
   "nbconvert_exporter": "python",
   "pygments_lexer": "ipython3",
   "version": "3.9.4"
  },
  "orig_nbformat": 4
 },
 "nbformat": 4,
 "nbformat_minor": 2
}
